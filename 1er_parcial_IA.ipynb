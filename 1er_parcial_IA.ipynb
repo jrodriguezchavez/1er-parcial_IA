{
  "cells": [
    {
      "cell_type": "markdown",
      "id": "3d48e232",
      "metadata": {
        "id": "3d48e232"
      },
      "source": [
        "## 1. Montar Google Drive\n",
        "Este paso permite acceder a archivos almacenados en tu Google Drive desde Google Colab."
      ]
    },
    {
      "cell_type": "code",
      "execution_count": 1,
      "id": "f5b014eb",
      "metadata": {
        "id": "f5b014eb"
      },
      "outputs": [],
      "source": [
        "# 1. Carga de librerías y conexión con Google Drive\n",
        "from google.colab import drive\n",
        "import pandas as pd\n",
        "from sklearn.model_selection import train_test_split\n",
        "from sklearn.preprocessing import StandardScaler\n",
        "from sklearn.linear_model import LinearRegression\n",
        "from sklearn.metrics import mean_squared_error, r2_score\n",
        "import tensorflow as tf\n",
        "from tensorflow.keras.models import Sequential\n",
        "from tensorflow.keras.layers import Dense\n",
        "import matplotlib.pyplot as plt"
      ]
    },
    {
      "cell_type": "code",
      "execution_count": 2,
      "id": "16f00887",
      "metadata": {
        "colab": {
          "base_uri": "https://localhost:8080/"
        },
        "id": "16f00887",
        "outputId": "2f66d8b8-92da-48be-c067-1b4ae6732746"
      },
      "outputs": [
        {
          "output_type": "stream",
          "name": "stdout",
          "text": [
            "Mounted at /content/drive\n"
          ]
        }
      ],
      "source": [
        "# Montamos el Drive para acceder al archivo CSV\n",
        "drive.mount('/content/drive')"
      ]
    },
    {
      "cell_type": "code",
      "execution_count": 4,
      "id": "b51b3960",
      "metadata": {
        "id": "b51b3960"
      },
      "outputs": [],
      "source": [
        "# 2. Carga del dataset\n",
        "df = pd.read_csv('/content/drive/MyDrive/1er parcial IA/Electricity_B1E.csv')\n",
        "df = df.dropna()  # Eliminamos valores faltantes si los hay"
      ]
    },
    {
      "cell_type": "code",
      "execution_count": 5,
      "id": "9f810c63",
      "metadata": {
        "id": "9f810c63"
      },
      "outputs": [],
      "source": [
        "# 3. Selección de variables predictoras y variable objetivo\n",
        "X = df[['V', 'I', 'f', 'DPF', 'APF']]\n",
        "y = df['P']"
      ]
    },
    {
      "cell_type": "code",
      "execution_count": 6,
      "id": "c4ac925c",
      "metadata": {
        "id": "c4ac925c"
      },
      "outputs": [],
      "source": [
        "# 4. División de los datos en entrenamiento y prueba\n",
        "X_train, X_test, y_train, y_test = train_test_split(X, y, test_size=0.2, random_state=42)"
      ]
    },
    {
      "cell_type": "code",
      "execution_count": 7,
      "id": "6e07c2b1",
      "metadata": {
        "id": "6e07c2b1"
      },
      "outputs": [],
      "source": [
        "# 5. Normalización de las características\n",
        "scaler = StandardScaler()\n",
        "X_train = scaler.fit_transform(X_train)\n",
        "X_test = scaler.transform(X_test)"
      ]
    },
    {
      "cell_type": "code",
      "execution_count": 8,
      "id": "dae37ef6",
      "metadata": {
        "colab": {
          "base_uri": "https://localhost:8080/",
          "height": 80
        },
        "id": "dae37ef6",
        "outputId": "a66cdeff-0512-4f21-d32c-8f46b66737fa"
      },
      "outputs": [
        {
          "output_type": "execute_result",
          "data": {
            "text/plain": [
              "LinearRegression()"
            ],
            "text/html": [
              "<style>#sk-container-id-1 {\n",
              "  /* Definition of color scheme common for light and dark mode */\n",
              "  --sklearn-color-text: #000;\n",
              "  --sklearn-color-text-muted: #666;\n",
              "  --sklearn-color-line: gray;\n",
              "  /* Definition of color scheme for unfitted estimators */\n",
              "  --sklearn-color-unfitted-level-0: #fff5e6;\n",
              "  --sklearn-color-unfitted-level-1: #f6e4d2;\n",
              "  --sklearn-color-unfitted-level-2: #ffe0b3;\n",
              "  --sklearn-color-unfitted-level-3: chocolate;\n",
              "  /* Definition of color scheme for fitted estimators */\n",
              "  --sklearn-color-fitted-level-0: #f0f8ff;\n",
              "  --sklearn-color-fitted-level-1: #d4ebff;\n",
              "  --sklearn-color-fitted-level-2: #b3dbfd;\n",
              "  --sklearn-color-fitted-level-3: cornflowerblue;\n",
              "\n",
              "  /* Specific color for light theme */\n",
              "  --sklearn-color-text-on-default-background: var(--sg-text-color, var(--theme-code-foreground, var(--jp-content-font-color1, black)));\n",
              "  --sklearn-color-background: var(--sg-background-color, var(--theme-background, var(--jp-layout-color0, white)));\n",
              "  --sklearn-color-border-box: var(--sg-text-color, var(--theme-code-foreground, var(--jp-content-font-color1, black)));\n",
              "  --sklearn-color-icon: #696969;\n",
              "\n",
              "  @media (prefers-color-scheme: dark) {\n",
              "    /* Redefinition of color scheme for dark theme */\n",
              "    --sklearn-color-text-on-default-background: var(--sg-text-color, var(--theme-code-foreground, var(--jp-content-font-color1, white)));\n",
              "    --sklearn-color-background: var(--sg-background-color, var(--theme-background, var(--jp-layout-color0, #111)));\n",
              "    --sklearn-color-border-box: var(--sg-text-color, var(--theme-code-foreground, var(--jp-content-font-color1, white)));\n",
              "    --sklearn-color-icon: #878787;\n",
              "  }\n",
              "}\n",
              "\n",
              "#sk-container-id-1 {\n",
              "  color: var(--sklearn-color-text);\n",
              "}\n",
              "\n",
              "#sk-container-id-1 pre {\n",
              "  padding: 0;\n",
              "}\n",
              "\n",
              "#sk-container-id-1 input.sk-hidden--visually {\n",
              "  border: 0;\n",
              "  clip: rect(1px 1px 1px 1px);\n",
              "  clip: rect(1px, 1px, 1px, 1px);\n",
              "  height: 1px;\n",
              "  margin: -1px;\n",
              "  overflow: hidden;\n",
              "  padding: 0;\n",
              "  position: absolute;\n",
              "  width: 1px;\n",
              "}\n",
              "\n",
              "#sk-container-id-1 div.sk-dashed-wrapped {\n",
              "  border: 1px dashed var(--sklearn-color-line);\n",
              "  margin: 0 0.4em 0.5em 0.4em;\n",
              "  box-sizing: border-box;\n",
              "  padding-bottom: 0.4em;\n",
              "  background-color: var(--sklearn-color-background);\n",
              "}\n",
              "\n",
              "#sk-container-id-1 div.sk-container {\n",
              "  /* jupyter's `normalize.less` sets `[hidden] { display: none; }`\n",
              "     but bootstrap.min.css set `[hidden] { display: none !important; }`\n",
              "     so we also need the `!important` here to be able to override the\n",
              "     default hidden behavior on the sphinx rendered scikit-learn.org.\n",
              "     See: https://github.com/scikit-learn/scikit-learn/issues/21755 */\n",
              "  display: inline-block !important;\n",
              "  position: relative;\n",
              "}\n",
              "\n",
              "#sk-container-id-1 div.sk-text-repr-fallback {\n",
              "  display: none;\n",
              "}\n",
              "\n",
              "div.sk-parallel-item,\n",
              "div.sk-serial,\n",
              "div.sk-item {\n",
              "  /* draw centered vertical line to link estimators */\n",
              "  background-image: linear-gradient(var(--sklearn-color-text-on-default-background), var(--sklearn-color-text-on-default-background));\n",
              "  background-size: 2px 100%;\n",
              "  background-repeat: no-repeat;\n",
              "  background-position: center center;\n",
              "}\n",
              "\n",
              "/* Parallel-specific style estimator block */\n",
              "\n",
              "#sk-container-id-1 div.sk-parallel-item::after {\n",
              "  content: \"\";\n",
              "  width: 100%;\n",
              "  border-bottom: 2px solid var(--sklearn-color-text-on-default-background);\n",
              "  flex-grow: 1;\n",
              "}\n",
              "\n",
              "#sk-container-id-1 div.sk-parallel {\n",
              "  display: flex;\n",
              "  align-items: stretch;\n",
              "  justify-content: center;\n",
              "  background-color: var(--sklearn-color-background);\n",
              "  position: relative;\n",
              "}\n",
              "\n",
              "#sk-container-id-1 div.sk-parallel-item {\n",
              "  display: flex;\n",
              "  flex-direction: column;\n",
              "}\n",
              "\n",
              "#sk-container-id-1 div.sk-parallel-item:first-child::after {\n",
              "  align-self: flex-end;\n",
              "  width: 50%;\n",
              "}\n",
              "\n",
              "#sk-container-id-1 div.sk-parallel-item:last-child::after {\n",
              "  align-self: flex-start;\n",
              "  width: 50%;\n",
              "}\n",
              "\n",
              "#sk-container-id-1 div.sk-parallel-item:only-child::after {\n",
              "  width: 0;\n",
              "}\n",
              "\n",
              "/* Serial-specific style estimator block */\n",
              "\n",
              "#sk-container-id-1 div.sk-serial {\n",
              "  display: flex;\n",
              "  flex-direction: column;\n",
              "  align-items: center;\n",
              "  background-color: var(--sklearn-color-background);\n",
              "  padding-right: 1em;\n",
              "  padding-left: 1em;\n",
              "}\n",
              "\n",
              "\n",
              "/* Toggleable style: style used for estimator/Pipeline/ColumnTransformer box that is\n",
              "clickable and can be expanded/collapsed.\n",
              "- Pipeline and ColumnTransformer use this feature and define the default style\n",
              "- Estimators will overwrite some part of the style using the `sk-estimator` class\n",
              "*/\n",
              "\n",
              "/* Pipeline and ColumnTransformer style (default) */\n",
              "\n",
              "#sk-container-id-1 div.sk-toggleable {\n",
              "  /* Default theme specific background. It is overwritten whether we have a\n",
              "  specific estimator or a Pipeline/ColumnTransformer */\n",
              "  background-color: var(--sklearn-color-background);\n",
              "}\n",
              "\n",
              "/* Toggleable label */\n",
              "#sk-container-id-1 label.sk-toggleable__label {\n",
              "  cursor: pointer;\n",
              "  display: flex;\n",
              "  width: 100%;\n",
              "  margin-bottom: 0;\n",
              "  padding: 0.5em;\n",
              "  box-sizing: border-box;\n",
              "  text-align: center;\n",
              "  align-items: start;\n",
              "  justify-content: space-between;\n",
              "  gap: 0.5em;\n",
              "}\n",
              "\n",
              "#sk-container-id-1 label.sk-toggleable__label .caption {\n",
              "  font-size: 0.6rem;\n",
              "  font-weight: lighter;\n",
              "  color: var(--sklearn-color-text-muted);\n",
              "}\n",
              "\n",
              "#sk-container-id-1 label.sk-toggleable__label-arrow:before {\n",
              "  /* Arrow on the left of the label */\n",
              "  content: \"▸\";\n",
              "  float: left;\n",
              "  margin-right: 0.25em;\n",
              "  color: var(--sklearn-color-icon);\n",
              "}\n",
              "\n",
              "#sk-container-id-1 label.sk-toggleable__label-arrow:hover:before {\n",
              "  color: var(--sklearn-color-text);\n",
              "}\n",
              "\n",
              "/* Toggleable content - dropdown */\n",
              "\n",
              "#sk-container-id-1 div.sk-toggleable__content {\n",
              "  max-height: 0;\n",
              "  max-width: 0;\n",
              "  overflow: hidden;\n",
              "  text-align: left;\n",
              "  /* unfitted */\n",
              "  background-color: var(--sklearn-color-unfitted-level-0);\n",
              "}\n",
              "\n",
              "#sk-container-id-1 div.sk-toggleable__content.fitted {\n",
              "  /* fitted */\n",
              "  background-color: var(--sklearn-color-fitted-level-0);\n",
              "}\n",
              "\n",
              "#sk-container-id-1 div.sk-toggleable__content pre {\n",
              "  margin: 0.2em;\n",
              "  border-radius: 0.25em;\n",
              "  color: var(--sklearn-color-text);\n",
              "  /* unfitted */\n",
              "  background-color: var(--sklearn-color-unfitted-level-0);\n",
              "}\n",
              "\n",
              "#sk-container-id-1 div.sk-toggleable__content.fitted pre {\n",
              "  /* unfitted */\n",
              "  background-color: var(--sklearn-color-fitted-level-0);\n",
              "}\n",
              "\n",
              "#sk-container-id-1 input.sk-toggleable__control:checked~div.sk-toggleable__content {\n",
              "  /* Expand drop-down */\n",
              "  max-height: 200px;\n",
              "  max-width: 100%;\n",
              "  overflow: auto;\n",
              "}\n",
              "\n",
              "#sk-container-id-1 input.sk-toggleable__control:checked~label.sk-toggleable__label-arrow:before {\n",
              "  content: \"▾\";\n",
              "}\n",
              "\n",
              "/* Pipeline/ColumnTransformer-specific style */\n",
              "\n",
              "#sk-container-id-1 div.sk-label input.sk-toggleable__control:checked~label.sk-toggleable__label {\n",
              "  color: var(--sklearn-color-text);\n",
              "  background-color: var(--sklearn-color-unfitted-level-2);\n",
              "}\n",
              "\n",
              "#sk-container-id-1 div.sk-label.fitted input.sk-toggleable__control:checked~label.sk-toggleable__label {\n",
              "  background-color: var(--sklearn-color-fitted-level-2);\n",
              "}\n",
              "\n",
              "/* Estimator-specific style */\n",
              "\n",
              "/* Colorize estimator box */\n",
              "#sk-container-id-1 div.sk-estimator input.sk-toggleable__control:checked~label.sk-toggleable__label {\n",
              "  /* unfitted */\n",
              "  background-color: var(--sklearn-color-unfitted-level-2);\n",
              "}\n",
              "\n",
              "#sk-container-id-1 div.sk-estimator.fitted input.sk-toggleable__control:checked~label.sk-toggleable__label {\n",
              "  /* fitted */\n",
              "  background-color: var(--sklearn-color-fitted-level-2);\n",
              "}\n",
              "\n",
              "#sk-container-id-1 div.sk-label label.sk-toggleable__label,\n",
              "#sk-container-id-1 div.sk-label label {\n",
              "  /* The background is the default theme color */\n",
              "  color: var(--sklearn-color-text-on-default-background);\n",
              "}\n",
              "\n",
              "/* On hover, darken the color of the background */\n",
              "#sk-container-id-1 div.sk-label:hover label.sk-toggleable__label {\n",
              "  color: var(--sklearn-color-text);\n",
              "  background-color: var(--sklearn-color-unfitted-level-2);\n",
              "}\n",
              "\n",
              "/* Label box, darken color on hover, fitted */\n",
              "#sk-container-id-1 div.sk-label.fitted:hover label.sk-toggleable__label.fitted {\n",
              "  color: var(--sklearn-color-text);\n",
              "  background-color: var(--sklearn-color-fitted-level-2);\n",
              "}\n",
              "\n",
              "/* Estimator label */\n",
              "\n",
              "#sk-container-id-1 div.sk-label label {\n",
              "  font-family: monospace;\n",
              "  font-weight: bold;\n",
              "  display: inline-block;\n",
              "  line-height: 1.2em;\n",
              "}\n",
              "\n",
              "#sk-container-id-1 div.sk-label-container {\n",
              "  text-align: center;\n",
              "}\n",
              "\n",
              "/* Estimator-specific */\n",
              "#sk-container-id-1 div.sk-estimator {\n",
              "  font-family: monospace;\n",
              "  border: 1px dotted var(--sklearn-color-border-box);\n",
              "  border-radius: 0.25em;\n",
              "  box-sizing: border-box;\n",
              "  margin-bottom: 0.5em;\n",
              "  /* unfitted */\n",
              "  background-color: var(--sklearn-color-unfitted-level-0);\n",
              "}\n",
              "\n",
              "#sk-container-id-1 div.sk-estimator.fitted {\n",
              "  /* fitted */\n",
              "  background-color: var(--sklearn-color-fitted-level-0);\n",
              "}\n",
              "\n",
              "/* on hover */\n",
              "#sk-container-id-1 div.sk-estimator:hover {\n",
              "  /* unfitted */\n",
              "  background-color: var(--sklearn-color-unfitted-level-2);\n",
              "}\n",
              "\n",
              "#sk-container-id-1 div.sk-estimator.fitted:hover {\n",
              "  /* fitted */\n",
              "  background-color: var(--sklearn-color-fitted-level-2);\n",
              "}\n",
              "\n",
              "/* Specification for estimator info (e.g. \"i\" and \"?\") */\n",
              "\n",
              "/* Common style for \"i\" and \"?\" */\n",
              "\n",
              ".sk-estimator-doc-link,\n",
              "a:link.sk-estimator-doc-link,\n",
              "a:visited.sk-estimator-doc-link {\n",
              "  float: right;\n",
              "  font-size: smaller;\n",
              "  line-height: 1em;\n",
              "  font-family: monospace;\n",
              "  background-color: var(--sklearn-color-background);\n",
              "  border-radius: 1em;\n",
              "  height: 1em;\n",
              "  width: 1em;\n",
              "  text-decoration: none !important;\n",
              "  margin-left: 0.5em;\n",
              "  text-align: center;\n",
              "  /* unfitted */\n",
              "  border: var(--sklearn-color-unfitted-level-1) 1pt solid;\n",
              "  color: var(--sklearn-color-unfitted-level-1);\n",
              "}\n",
              "\n",
              ".sk-estimator-doc-link.fitted,\n",
              "a:link.sk-estimator-doc-link.fitted,\n",
              "a:visited.sk-estimator-doc-link.fitted {\n",
              "  /* fitted */\n",
              "  border: var(--sklearn-color-fitted-level-1) 1pt solid;\n",
              "  color: var(--sklearn-color-fitted-level-1);\n",
              "}\n",
              "\n",
              "/* On hover */\n",
              "div.sk-estimator:hover .sk-estimator-doc-link:hover,\n",
              ".sk-estimator-doc-link:hover,\n",
              "div.sk-label-container:hover .sk-estimator-doc-link:hover,\n",
              ".sk-estimator-doc-link:hover {\n",
              "  /* unfitted */\n",
              "  background-color: var(--sklearn-color-unfitted-level-3);\n",
              "  color: var(--sklearn-color-background);\n",
              "  text-decoration: none;\n",
              "}\n",
              "\n",
              "div.sk-estimator.fitted:hover .sk-estimator-doc-link.fitted:hover,\n",
              ".sk-estimator-doc-link.fitted:hover,\n",
              "div.sk-label-container:hover .sk-estimator-doc-link.fitted:hover,\n",
              ".sk-estimator-doc-link.fitted:hover {\n",
              "  /* fitted */\n",
              "  background-color: var(--sklearn-color-fitted-level-3);\n",
              "  color: var(--sklearn-color-background);\n",
              "  text-decoration: none;\n",
              "}\n",
              "\n",
              "/* Span, style for the box shown on hovering the info icon */\n",
              ".sk-estimator-doc-link span {\n",
              "  display: none;\n",
              "  z-index: 9999;\n",
              "  position: relative;\n",
              "  font-weight: normal;\n",
              "  right: .2ex;\n",
              "  padding: .5ex;\n",
              "  margin: .5ex;\n",
              "  width: min-content;\n",
              "  min-width: 20ex;\n",
              "  max-width: 50ex;\n",
              "  color: var(--sklearn-color-text);\n",
              "  box-shadow: 2pt 2pt 4pt #999;\n",
              "  /* unfitted */\n",
              "  background: var(--sklearn-color-unfitted-level-0);\n",
              "  border: .5pt solid var(--sklearn-color-unfitted-level-3);\n",
              "}\n",
              "\n",
              ".sk-estimator-doc-link.fitted span {\n",
              "  /* fitted */\n",
              "  background: var(--sklearn-color-fitted-level-0);\n",
              "  border: var(--sklearn-color-fitted-level-3);\n",
              "}\n",
              "\n",
              ".sk-estimator-doc-link:hover span {\n",
              "  display: block;\n",
              "}\n",
              "\n",
              "/* \"?\"-specific style due to the `<a>` HTML tag */\n",
              "\n",
              "#sk-container-id-1 a.estimator_doc_link {\n",
              "  float: right;\n",
              "  font-size: 1rem;\n",
              "  line-height: 1em;\n",
              "  font-family: monospace;\n",
              "  background-color: var(--sklearn-color-background);\n",
              "  border-radius: 1rem;\n",
              "  height: 1rem;\n",
              "  width: 1rem;\n",
              "  text-decoration: none;\n",
              "  /* unfitted */\n",
              "  color: var(--sklearn-color-unfitted-level-1);\n",
              "  border: var(--sklearn-color-unfitted-level-1) 1pt solid;\n",
              "}\n",
              "\n",
              "#sk-container-id-1 a.estimator_doc_link.fitted {\n",
              "  /* fitted */\n",
              "  border: var(--sklearn-color-fitted-level-1) 1pt solid;\n",
              "  color: var(--sklearn-color-fitted-level-1);\n",
              "}\n",
              "\n",
              "/* On hover */\n",
              "#sk-container-id-1 a.estimator_doc_link:hover {\n",
              "  /* unfitted */\n",
              "  background-color: var(--sklearn-color-unfitted-level-3);\n",
              "  color: var(--sklearn-color-background);\n",
              "  text-decoration: none;\n",
              "}\n",
              "\n",
              "#sk-container-id-1 a.estimator_doc_link.fitted:hover {\n",
              "  /* fitted */\n",
              "  background-color: var(--sklearn-color-fitted-level-3);\n",
              "}\n",
              "</style><div id=\"sk-container-id-1\" class=\"sk-top-container\"><div class=\"sk-text-repr-fallback\"><pre>LinearRegression()</pre><b>In a Jupyter environment, please rerun this cell to show the HTML representation or trust the notebook. <br />On GitHub, the HTML representation is unable to render, please try loading this page with nbviewer.org.</b></div><div class=\"sk-container\" hidden><div class=\"sk-item\"><div class=\"sk-estimator fitted sk-toggleable\"><input class=\"sk-toggleable__control sk-hidden--visually\" id=\"sk-estimator-id-1\" type=\"checkbox\" checked><label for=\"sk-estimator-id-1\" class=\"sk-toggleable__label fitted sk-toggleable__label-arrow\"><div><div>LinearRegression</div></div><div><a class=\"sk-estimator-doc-link fitted\" rel=\"noreferrer\" target=\"_blank\" href=\"https://scikit-learn.org/1.6/modules/generated/sklearn.linear_model.LinearRegression.html\">?<span>Documentation for LinearRegression</span></a><span class=\"sk-estimator-doc-link fitted\">i<span>Fitted</span></span></div></label><div class=\"sk-toggleable__content fitted\"><pre>LinearRegression()</pre></div> </div></div></div></div>"
            ]
          },
          "metadata": {},
          "execution_count": 8
        }
      ],
      "source": [
        "# 6. Modelo de Regresión Lineal\n",
        "reg_model = LinearRegression()\n",
        "reg_model.fit(X_train, y_train)"
      ]
    },
    {
      "cell_type": "code",
      "execution_count": 9,
      "id": "618440dd",
      "metadata": {
        "id": "618440dd"
      },
      "outputs": [],
      "source": [
        "# 7. Evaluación del modelo de Regresión Lineal\n",
        "y_pred_reg = reg_model.predict(X_test)\n",
        "mse_reg = mean_squared_error(y_test, y_pred_reg)\n",
        "r2_reg = r2_score(y_test, y_pred_reg)"
      ]
    },
    {
      "cell_type": "code",
      "execution_count": 10,
      "id": "2c2c76f8",
      "metadata": {
        "colab": {
          "base_uri": "https://localhost:8080/"
        },
        "id": "2c2c76f8",
        "outputId": "9b88863f-5181-45f2-9f64-8e5a936177e1"
      },
      "outputs": [
        {
          "output_type": "stream",
          "name": "stdout",
          "text": [
            "Modelo de Regresión Lineal:\n",
            " - Error cuadrático medio (MSE): 1.5928\n",
            " - Coeficiente de determinación (R2): 0.9794\n"
          ]
        }
      ],
      "source": [
        "print(\"Modelo de Regresión Lineal:\")\n",
        "print(f\" - Error cuadrático medio (MSE): {mse_reg:.4f}\")\n",
        "print(f\" - Coeficiente de determinación (R2): {r2_reg:.4f}\")"
      ]
    },
    {
      "cell_type": "code",
      "execution_count": 11,
      "id": "e9d43382",
      "metadata": {
        "colab": {
          "base_uri": "https://localhost:8080/"
        },
        "id": "e9d43382",
        "outputId": "c82520d4-eef4-4a3a-da8d-3fa9a73ef2b4"
      },
      "outputs": [
        {
          "output_type": "stream",
          "name": "stderr",
          "text": [
            "/usr/local/lib/python3.11/dist-packages/keras/src/layers/core/dense.py:87: UserWarning: Do not pass an `input_shape`/`input_dim` argument to a layer. When using Sequential models, prefer using an `Input(shape)` object as the first layer in the model instead.\n",
            "  super().__init__(activity_regularizer=activity_regularizer, **kwargs)\n"
          ]
        }
      ],
      "source": [
        "# 8. Entrenamiento del Modelo de Red Neuronal\n",
        "model = Sequential([\n",
        "    Dense(16, activation='relu', input_shape=(X_train.shape[1],)),\n",
        "    Dense(1)\n",
        "])"
      ]
    },
    {
      "cell_type": "code",
      "execution_count": 12,
      "id": "9827be3b",
      "metadata": {
        "id": "9827be3b"
      },
      "outputs": [],
      "source": [
        "model.compile(optimizer='adam', loss='mse', metrics=['mae'])"
      ]
    },
    {
      "cell_type": "code",
      "execution_count": 13,
      "id": "37cf4653",
      "metadata": {
        "colab": {
          "base_uri": "https://localhost:8080/"
        },
        "id": "37cf4653",
        "outputId": "b3bf781c-5a6d-498b-d3e3-7fa6f3c2c9f4"
      },
      "outputs": [
        {
          "output_type": "stream",
          "name": "stdout",
          "text": [
            "Epoch 1/20\n",
            "\u001b[1m10512/10512\u001b[0m \u001b[32m━━━━━━━━━━━━━━━━━━━━\u001b[0m\u001b[37m\u001b[0m \u001b[1m32s\u001b[0m 3ms/step - loss: 29.4709 - mae: 0.6324 - val_loss: 1.6413 - val_mae: 0.2964\n",
            "Epoch 2/20\n",
            "\u001b[1m10512/10512\u001b[0m \u001b[32m━━━━━━━━━━━━━━━━━━━━\u001b[0m\u001b[37m\u001b[0m \u001b[1m30s\u001b[0m 3ms/step - loss: 1.5402 - mae: 0.3124 - val_loss: 1.4426 - val_mae: 0.2715\n",
            "Epoch 3/20\n",
            "\u001b[1m10512/10512\u001b[0m \u001b[32m━━━━━━━━━━━━━━━━━━━━\u001b[0m\u001b[37m\u001b[0m \u001b[1m41s\u001b[0m 3ms/step - loss: 1.4461 - mae: 0.2779 - val_loss: 1.2210 - val_mae: 0.2517\n",
            "Epoch 4/20\n",
            "\u001b[1m10512/10512\u001b[0m \u001b[32m━━━━━━━━━━━━━━━━━━━━\u001b[0m\u001b[37m\u001b[0m \u001b[1m41s\u001b[0m 3ms/step - loss: 1.0651 - mae: 0.2639 - val_loss: 1.0440 - val_mae: 0.3354\n",
            "Epoch 5/20\n",
            "\u001b[1m10512/10512\u001b[0m \u001b[32m━━━━━━━━━━━━━━━━━━━━\u001b[0m\u001b[37m\u001b[0m \u001b[1m41s\u001b[0m 3ms/step - loss: 0.9696 - mae: 0.2253 - val_loss: 0.6297 - val_mae: 0.1653\n",
            "Epoch 6/20\n",
            "\u001b[1m10512/10512\u001b[0m \u001b[32m━━━━━━━━━━━━━━━━━━━━\u001b[0m\u001b[37m\u001b[0m \u001b[1m35s\u001b[0m 3ms/step - loss: 0.4504 - mae: 0.1706 - val_loss: 0.4960 - val_mae: 0.1164\n",
            "Epoch 7/20\n",
            "\u001b[1m10512/10512\u001b[0m \u001b[32m━━━━━━━━━━━━━━━━━━━━\u001b[0m\u001b[37m\u001b[0m \u001b[1m36s\u001b[0m 3ms/step - loss: 0.4991 - mae: 0.1235 - val_loss: 0.4158 - val_mae: 0.0841\n",
            "Epoch 8/20\n",
            "\u001b[1m10512/10512\u001b[0m \u001b[32m━━━━━━━━━━━━━━━━━━━━\u001b[0m\u001b[37m\u001b[0m \u001b[1m45s\u001b[0m 3ms/step - loss: 0.2399 - mae: 0.0988 - val_loss: 0.3982 - val_mae: 0.0708\n",
            "Epoch 9/20\n",
            "\u001b[1m10512/10512\u001b[0m \u001b[32m━━━━━━━━━━━━━━━━━━━━\u001b[0m\u001b[37m\u001b[0m \u001b[1m36s\u001b[0m 3ms/step - loss: 0.1999 - mae: 0.0938 - val_loss: 0.4053 - val_mae: 0.0636\n",
            "Epoch 10/20\n",
            "\u001b[1m10512/10512\u001b[0m \u001b[32m━━━━━━━━━━━━━━━━━━━━\u001b[0m\u001b[37m\u001b[0m \u001b[1m41s\u001b[0m 3ms/step - loss: 0.1995 - mae: 0.0760 - val_loss: 0.5008 - val_mae: 0.1336\n",
            "Epoch 11/20\n",
            "\u001b[1m10512/10512\u001b[0m \u001b[32m━━━━━━━━━━━━━━━━━━━━\u001b[0m\u001b[37m\u001b[0m \u001b[1m35s\u001b[0m 3ms/step - loss: 0.3355 - mae: 0.0869 - val_loss: 0.3722 - val_mae: 0.0696\n",
            "Epoch 12/20\n",
            "\u001b[1m10512/10512\u001b[0m \u001b[32m━━━━━━━━━━━━━━━━━━━━\u001b[0m\u001b[37m\u001b[0m \u001b[1m37s\u001b[0m 3ms/step - loss: 0.1689 - mae: 0.0827 - val_loss: 0.3609 - val_mae: 0.0478\n",
            "Epoch 13/20\n",
            "\u001b[1m10512/10512\u001b[0m \u001b[32m━━━━━━━━━━━━━━━━━━━━\u001b[0m\u001b[37m\u001b[0m \u001b[1m30s\u001b[0m 3ms/step - loss: 0.2399 - mae: 0.0711 - val_loss: 0.3719 - val_mae: 0.0515\n",
            "Epoch 14/20\n",
            "\u001b[1m10512/10512\u001b[0m \u001b[32m━━━━━━━━━━━━━━━━━━━━\u001b[0m\u001b[37m\u001b[0m \u001b[1m41s\u001b[0m 3ms/step - loss: 0.2044 - mae: 0.0748 - val_loss: 0.3539 - val_mae: 0.0696\n",
            "Epoch 15/20\n",
            "\u001b[1m10512/10512\u001b[0m \u001b[32m━━━━━━━━━━━━━━━━━━━━\u001b[0m\u001b[37m\u001b[0m \u001b[1m31s\u001b[0m 3ms/step - loss: 0.1330 - mae: 0.0652 - val_loss: 0.4167 - val_mae: 0.0992\n",
            "Epoch 16/20\n",
            "\u001b[1m10512/10512\u001b[0m \u001b[32m━━━━━━━━━━━━━━━━━━━━\u001b[0m\u001b[37m\u001b[0m \u001b[1m31s\u001b[0m 3ms/step - loss: 0.2497 - mae: 0.0724 - val_loss: 0.3922 - val_mae: 0.0463\n",
            "Epoch 17/20\n",
            "\u001b[1m10512/10512\u001b[0m \u001b[32m━━━━━━━━━━━━━━━━━━━━\u001b[0m\u001b[37m\u001b[0m \u001b[1m45s\u001b[0m 3ms/step - loss: 0.2295 - mae: 0.0814 - val_loss: 0.3714 - val_mae: 0.0928\n",
            "Epoch 18/20\n",
            "\u001b[1m10512/10512\u001b[0m \u001b[32m━━━━━━━━━━━━━━━━━━━━\u001b[0m\u001b[37m\u001b[0m \u001b[1m35s\u001b[0m 3ms/step - loss: 0.2663 - mae: 0.0666 - val_loss: 0.3697 - val_mae: 0.0509\n",
            "Epoch 19/20\n",
            "\u001b[1m10512/10512\u001b[0m \u001b[32m━━━━━━━━━━━━━━━━━━━━\u001b[0m\u001b[37m\u001b[0m \u001b[1m35s\u001b[0m 3ms/step - loss: 0.1612 - mae: 0.0525 - val_loss: 0.3661 - val_mae: 0.0821\n",
            "Epoch 20/20\n",
            "\u001b[1m10512/10512\u001b[0m \u001b[32m━━━━━━━━━━━━━━━━━━━━\u001b[0m\u001b[37m\u001b[0m \u001b[1m36s\u001b[0m 3ms/step - loss: 0.1695 - mae: 0.0663 - val_loss: 0.3679 - val_mae: 0.0359\n"
          ]
        }
      ],
      "source": [
        "history = model.fit(X_train, y_train, epochs=20, batch_size=64, validation_split=0.2)"
      ]
    },
    {
      "cell_type": "code",
      "execution_count": 14,
      "id": "d4f1da48",
      "metadata": {
        "colab": {
          "base_uri": "https://localhost:8080/"
        },
        "id": "d4f1da48",
        "outputId": "f9df4624-808c-435f-f531-252dfabb1fe9"
      },
      "outputs": [
        {
          "output_type": "stream",
          "name": "stdout",
          "text": [
            "\u001b[1m6570/6570\u001b[0m \u001b[32m━━━━━━━━━━━━━━━━━━━━\u001b[0m\u001b[37m\u001b[0m \u001b[1m22s\u001b[0m 3ms/step - loss: 0.0559 - mae: 0.0345\n",
            "\u001b[1m6570/6570\u001b[0m \u001b[32m━━━━━━━━━━━━━━━━━━━━\u001b[0m\u001b[37m\u001b[0m \u001b[1m8s\u001b[0m 1ms/step\n"
          ]
        }
      ],
      "source": [
        "# 9. Evaluación del modelo de Red Neuronal\n",
        "loss_nn, mae_nn = model.evaluate(X_test, y_test)\n",
        "y_pred_nn = model.predict(X_test).flatten()\n",
        "mse_nn = mean_squared_error(y_test, y_pred_nn)\n",
        "r2_nn = r2_score(y_test, y_pred_nn)"
      ]
    },
    {
      "cell_type": "code",
      "execution_count": 15,
      "id": "4e793af3",
      "metadata": {
        "colab": {
          "base_uri": "https://localhost:8080/"
        },
        "id": "4e793af3",
        "outputId": "586574b1-18cf-4138-806a-95f85ea63435"
      },
      "outputs": [
        {
          "output_type": "stream",
          "name": "stdout",
          "text": [
            "\n",
            "Modelo de Red Neuronal:\n",
            " - Error cuadrático medio (MSE): 0.0556\n",
            " - Coeficiente de determinación (R2): 0.9993\n"
          ]
        }
      ],
      "source": [
        "print(\"\\nModelo de Red Neuronal:\")\n",
        "print(f\" - Error cuadrático medio (MSE): {mse_nn:.4f}\")\n",
        "print(f\" - Coeficiente de determinación (R2): {r2_nn:.4f}\")"
      ]
    },
    {
      "cell_type": "code",
      "execution_count": 16,
      "id": "78d169df",
      "metadata": {
        "colab": {
          "base_uri": "https://localhost:8080/",
          "height": 490
        },
        "id": "78d169df",
        "outputId": "4aad2019-3c7b-4698-9e5e-fc9ae33485a8"
      },
      "outputs": [
        {
          "output_type": "display_data",
          "data": {
            "text/plain": [
              "<Figure size 1000x500 with 1 Axes>"
            ],
            "image/png": "[encoded data removed]"
          },
          "metadata": {}
        }
      ],
      "source": [
        "# 10. Gráfica de la función de pérdida de la Red Neuronal\n",
        "plt.figure(figsize=(10, 5))\n",
        "plt.plot(history.history['loss'], label='Pérdida entrenamiento')\n",
        "plt.plot(history.history['val_loss'], label='Pérdida validación')\n",
        "plt.title('Red Neuronal - Función de pérdida')\n",
        "plt.xlabel('Épocas')\n",
        "plt.ylabel('MSE')\n",
        "plt.legend()\n",
        "plt.grid(True)\n",
        "plt.show()"
      ]
    },
    {
      "cell_type": "code",
      "execution_count": 17,
      "id": "c69b2e55",
      "metadata": {
        "colab": {
          "base_uri": "https://localhost:8080/"
        },
        "id": "c69b2e55",
        "outputId": "8266a01a-147f-4a1c-9803-c2fda0bacd33"
      },
      "outputs": [
        {
          "output_type": "stream",
          "name": "stdout",
          "text": [
            "\n",
            "Comparativa entre modelos:\n",
            "Regresión Lineal - MSE: 1.5928, R2: 0.9794\n",
            "Red Neuronal      - MSE: 0.0556, R2: 0.9993\n"
          ]
        }
      ],
      "source": [
        "# 11. Comparación de resultados\n",
        "print(\"\\nComparativa entre modelos:\")\n",
        "print(f\"Regresión Lineal - MSE: {mse_reg:.4f}, R2: {r2_reg:.4f}\")\n",
        "print(f\"Red Neuronal      - MSE: {mse_nn:.4f}, R2: {r2_nn:.4f}\")"
      ]
    },
    {
      "cell_type": "markdown",
      "id": "59c5142b",
      "metadata": {
        "id": "59c5142b"
      },
      "source": [
        "## 2. Cargar y limpiar el dataset\n",
        "Se carga el archivo CSV desde Drive y se eliminan valores faltantes para evitar errores."
      ]
    },
    {
      "cell_type": "markdown",
      "id": "186a7f6d",
      "metadata": {
        "id": "186a7f6d"
      },
      "source": [
        "## 3. Selección de variables predictoras y objetivo\n",
        "Se definen las variables que se usarán para entrenar el modelo y la que se quiere predecir."
      ]
    },
    {
      "cell_type": "markdown",
      "id": "49cf8683",
      "metadata": {
        "id": "49cf8683"
      },
      "source": [
        "## 4. División de los datos en entrenamiento y prueba\n",
        "Se divide el dataset en 80% para entrenamiento y 20% para prueba."
      ]
    },
    {
      "cell_type": "markdown",
      "id": "af2c08de",
      "metadata": {
        "id": "af2c08de"
      },
      "source": [
        "## 5. Normalización de características\n",
        "Se escalan las variables predictoras para mejorar el rendimiento de los modelos."
      ]
    },
    {
      "cell_type": "markdown",
      "id": "e0c775f3",
      "metadata": {
        "id": "e0c775f3"
      },
      "source": [
        "## 6. Entrenamiento del modelo de Regresión Lineal\n",
        "Se entrena un modelo simple para comparar con la red neuronal."
      ]
    },
    {
      "cell_type": "markdown",
      "id": "2e19d49f",
      "metadata": {
        "id": "2e19d49f"
      },
      "source": [
        "## 7. Evaluación del modelo de Regresión Lineal\n",
        "Se mide qué tan bien predice el modelo con los datos de prueba."
      ]
    },
    {
      "cell_type": "markdown",
      "id": "902d0265",
      "metadata": {
        "id": "902d0265"
      },
      "source": [
        "## 8. Entrenamiento del modelo de Red Neuronal\n",
        "Se construye y entrena una red neuronal con los datos normalizados."
      ]
    },
    {
      "cell_type": "markdown",
      "id": "c73d55de",
      "metadata": {
        "id": "c73d55de"
      },
      "source": [
        "## 9. Evaluación del modelo de Red Neuronal\n",
        "Se mide la precisión de la red neuronal con los datos de prueba."
      ]
    },
    {
      "cell_type": "markdown",
      "id": "375f5653",
      "metadata": {
        "id": "375f5653"
      },
      "source": [
        "## 10. Visualización de la función de pérdida\n",
        "Se grafica la evolución del error durante el entrenamiento."
      ]
    },
    {
      "cell_type": "markdown",
      "id": "7301f3d4",
      "metadata": {
        "id": "7301f3d4"
      },
      "source": [
        "## 11. Comparación de resultados\n",
        "Se comparan las métricas de ambos modelos para decidir cuál es mejor."
      ]
    },
    {
      "cell_type": "code",
      "execution_count": null,
      "id": "43cedb92",
      "metadata": {
        "id": "43cedb92"
      },
      "outputs": [],
      "source": [
        "\n",
        "# Evaluación del modelo con datos de prueba\n",
        "loss_nn, mae_nn = model.evaluate(X_test, y_test, verbose=0)\n",
        "\n",
        "# Graficar el historial de entrenamiento\n",
        "import matplotlib.pyplot as plt\n",
        "\n",
        "plt.figure(figsize=(12, 5))\n",
        "plt.subplot(1, 2, 1)\n",
        "plt.plot(history.history['loss'], label='Pérdida de entrenamiento')\n",
        "plt.plot(history.history['val_loss'], label='Pérdida de validación')\n",
        "plt.title('Evolución de la función de pérdida')\n",
        "plt.xlabel('Épocas')\n",
        "plt.ylabel('Pérdida (MSE)')\n",
        "plt.legend()\n",
        "\n",
        "plt.subplot(1, 2, 2)\n",
        "plt.plot(history.history['mae'], label='MAE entrenamiento')\n",
        "plt.plot(history.history['val_mae'], label='MAE validación')\n",
        "plt.title('Evolución del error absoluto medio (MAE)')\n",
        "plt.xlabel('Épocas')\n",
        "plt.ylabel('MAE')\n",
        "plt.legend()\n",
        "\n",
        "plt.tight_layout()\n",
        "plt.show()\n",
        "\n",
        "print(f\"🔎 Evaluación final del modelo de Red Neuronal:\")\n",
        "print(f\" - MSE (pérdida): {loss_nn:.4f}\")\n",
        "print(f\" - MAE (error absoluto medio): {mae_nn:.4f}\")\n",
        "print(\"\\nInterpretación:\")\n",
        "print(\"- Un menor valor de MSE indica que el modelo comete errores pequeños en promedio.\")\n",
        "print(\"- El MAE muestra el error promedio en unidades de la variable objetivo (potencia P).\")\n"
      ]
    },
    {
      "cell_type": "code",
      "execution_count": null,
      "id": "21ee4aad",
      "metadata": {
        "id": "21ee4aad"
      },
      "outputs": [],
      "source": [
        "\n",
        "# Evaluación del modelo de Regresión Lineal\n",
        "from sklearn.metrics import mean_squared_error, mean_absolute_error, r2_score\n",
        "\n",
        "# Predicción con el conjunto de prueba\n",
        "y_pred_lr = model_lr.predict(X_test)\n",
        "\n",
        "# Cálculo de métricas\n",
        "mse_lr = mean_squared_error(y_test, y_pred_lr)\n",
        "mae_lr = mean_absolute_error(y_test, y_pred_lr)\n",
        "r2_lr = r2_score(y_test, y_pred_lr)\n",
        "\n",
        "# Mostrar resultados\n",
        "print(\"📈 Evaluación del modelo de Regresión Lineal:\")\n",
        "print(f\" - MSE: {mse_lr:.4f}\")\n",
        "print(f\" - MAE: {mae_lr:.4f}\")\n",
        "print(f\" - R² Score: {r2_lr:.4f}\")\n",
        "print(\"\\nInterpretación:\")\n",
        "print(\"- El MSE y MAE reflejan el error medio de predicción.\")\n",
        "print(\"- R² mide qué tan bien el modelo explica la variabilidad de los datos (1.0 = perfecto).\")\n",
        "\n",
        "# Gráfica de valores reales vs predichos\n",
        "import matplotlib.pyplot as plt\n",
        "\n",
        "plt.figure(figsize=(6,6))\n",
        "plt.scatter(y_test, y_pred_lr, alpha=0.6, edgecolors='k')\n",
        "plt.plot([y_test.min(), y_test.max()], [y_test.min(), y_test.max()], 'r--')\n",
        "plt.title('Regresión Lineal: Valores reales vs. predichos')\n",
        "plt.xlabel('Valores reales (P)')\n",
        "plt.ylabel('Valores predichos (P)')\n",
        "plt.grid(True)\n",
        "plt.tight_layout()\n",
        "plt.show()\n"
      ]
    },
    {
      "cell_type": "code",
      "execution_count": null,
      "id": "f8d0609b",
      "metadata": {
        "id": "f8d0609b"
      },
      "outputs": [],
      "source": [
        "\n",
        "# Comparación Final de Modelos\n",
        "\n",
        "print(\"🔍 Comparación de Modelos\n",
        "\")\n",
        "\n",
        "print(\"📊 Regresión Lineal:\")\n",
        "print(f\" - MSE: {mse_lr:.4f}\")\n",
        "print(f\" - MAE: {mae_lr:.4f}\")\n",
        "print(f\" - R²: {r2_lr:.4f}\")\n",
        "\n",
        "print(\"\\n🤖 Red Neuronal:\")\n",
        "print(f\" - MSE: {loss_nn:.4f}\")\n",
        "print(f\" - MAE: {mae_nn:.4f}\")\n",
        "\n",
        "# Interpretación\n",
        "print(\"\\n📌 Conclusión:\")\n",
        "if loss_nn < mse_lr and mae_nn < mae_lr:\n",
        "    print(\"- La red neuronal presenta mejor rendimiento general al tener menor MSE y MAE.\")\n",
        "elif mse_lr < loss_nn and mae_lr < mae_nn:\n",
        "    print(\"- La regresión lineal es más precisa para este conjunto de datos.\")\n",
        "else:\n",
        "    print(\"- Ambos modelos tienen ventajas distintas. Puede ser útil elegir según el contexto.\")\n",
        "\n",
        "print(\"- Si el modelo requiere más precisión en datos no lineales, la red neuronal suele ser preferible.\")\n",
        "print(\"- Si se busca simplicidad y velocidad, la regresión lineal puede ser suficiente.\")\n"
      ]
    }
  ],
  "metadata": {
    "colab": {
      "provenance": [],
      "gpuType": "T4"
    },
    "language_info": {
      "name": "python"
    },
    "accelerator": "GPU",
    "kernelspec": {
      "name": "python3",
      "display_name": "Python 3"
    }
  },
  "nbformat": 4,
  "nbformat_minor": 5
}